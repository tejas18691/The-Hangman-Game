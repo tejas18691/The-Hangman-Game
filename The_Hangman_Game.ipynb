{
  "nbformat": 4,
  "nbformat_minor": 0,
  "metadata": {
    "colab": {
      "name": "The Hangman Game.ipynb",
      "provenance": [],
      "authorship_tag": "ABX9TyOCBLbmiX8yD9lyoRBJTH9M",
      "include_colab_link": true
    },
    "kernelspec": {
      "name": "python3",
      "display_name": "Python 3"
    }
  },
  "cells": [
    {
      "cell_type": "markdown",
      "metadata": {
        "id": "view-in-github",
        "colab_type": "text"
      },
      "source": [
        "<a href=\"https://colab.research.google.com/github/tejas18691/The-Hangman-Game/blob/main/The_Hangman_Game.ipynb\" target=\"_parent\"><img src=\"https://colab.research.google.com/assets/colab-badge.svg\" alt=\"Open In Colab\"/></a>"
      ]
    },
    {
      "cell_type": "code",
      "metadata": {
        "colab": {
          "base_uri": "https://localhost:8080/"
        },
        "id": "I8RoTTue36QF",
        "outputId": "4b07fd48-667d-457a-cdb2-bd36ac0589a5"
      },
      "source": [
        "import random\n",
        "\n",
        "name = input(\"What is your name? \")\n",
        "\n",
        " \n",
        "print(\"Good Luck ! \", name)\n",
        " \n",
        "words = ['rainbow', 'computer', 'science', 'programming', 'python', 'mathematics', 'player', 'condition', \n",
        "         'reverse', 'water', 'board', 'watermelon', 'brainz', 'america','amazon','india'] \n",
        " \n",
        "word = random.choice(words)\n",
        " \n",
        " \n",
        "print(\"Guess the characters\")\n",
        " \n",
        "guesses = ''\n",
        " \n",
        "# any number of turns can be used here\n",
        "turns = 16\n",
        " \n",
        " \n",
        "while turns > 0:\n",
        "     \n",
        "    # counts the number of times a user fails\n",
        "    failed = 0\n",
        "     \n",
        "\n",
        "    for char in word: \n",
        "         \n",
        "        \n",
        "        if char in guesses: \n",
        "            print(char)\n",
        "             \n",
        "        else: \n",
        "            print(\"_\")\n",
        "             \n",
        "          \n",
        "            failed += 1\n",
        "             \n",
        " \n",
        "    if failed == 0:\n",
        "       \n",
        "        print(\"You Win\") \n",
        "         \n",
        "        # this print the correct word\n",
        "        print(\"The word is: \", word) \n",
        "        break\n",
        "     \n",
        "   \n",
        "    guess = input(\"guess a character:\")\n",
        "     \n",
        "    # every input character will be stored in guesses \n",
        "    guesses += guess \n",
        "     \n",
        "    # check input with the character in word\n",
        "    if guess not in word:\n",
        "         \n",
        "        turns -= 1\n",
        "         \n",
        "        \n",
        "        print(\"Wrong\")\n",
        "         \n",
        "       \n",
        "        print(\"You have\", + turns, 'more guesses')\n",
        "         \n",
        "         \n",
        "        if turns == 0:\n",
        "            print(\"You Loose\")"
      ],
      "execution_count": 7,
      "outputs": [
        {
          "output_type": "stream",
          "text": [
            "What is your name? tejasvi\n",
            "Good Luck !  tejasvi\n",
            "Guess the characters\n",
            "_\n",
            "_\n",
            "_\n",
            "_\n",
            "_\n",
            "_\n",
            "guess a character:n\n",
            "_\n",
            "_\n",
            "_\n",
            "_\n",
            "n\n",
            "_\n",
            "guess a character:a\n",
            "_\n",
            "_\n",
            "a\n",
            "_\n",
            "n\n",
            "_\n",
            "guess a character:b\n",
            "b\n",
            "_\n",
            "a\n",
            "_\n",
            "n\n",
            "_\n",
            "guess a character:z\n",
            "b\n",
            "_\n",
            "a\n",
            "_\n",
            "n\n",
            "z\n",
            "guess a character:i\n",
            "b\n",
            "_\n",
            "a\n",
            "i\n",
            "n\n",
            "z\n",
            "guess a character:r\n",
            "b\n",
            "r\n",
            "a\n",
            "i\n",
            "n\n",
            "z\n",
            "You Win\n",
            "The word is:  brainz\n"
          ],
          "name": "stdout"
        }
      ]
    },
    {
      "cell_type": "code",
      "metadata": {
        "id": "v_gA8Bbe8-OT"
      },
      "source": [
        ""
      ],
      "execution_count": null,
      "outputs": []
    }
  ]
}